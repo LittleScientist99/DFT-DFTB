{
 "cells": [
  {
   "cell_type": "code",
   "execution_count": null,
   "id": "a2bdfcb3",
   "metadata": {
    "vscode": {
     "languageId": "plaintext"
    }
   },
   "outputs": [],
   "source": [
    "P = [-0.2,\t-0.16,\t-0.12,\t-0.08,\t-0.04,\t0,\t0.04,\t0.08,\t0.12,\t0.16,\t0.2]\n",
    "E_6 = [-37.7636232409,\t-37.77260603,\t-37.78079279,\t-37.7881818977,\t-37.7947718,\t-37.8005609939,\t-37.80554804,\t-37.80973156,\t-37.81311022,\t-37.81568272,\t-37.81744782]\n",
    "E_5 = [-37.76362324,\t-37.77260603,\t-37.78079279,\t-37.7881819,\t-37.7947718,\t-37.8005609939,\t-37.80554804,\t-37.80973156,\t-37.81311022,\t-37.81568272,\t-37.81744782]\n",
    "E_4 = [-37.70101561,\t-37.72258661,\t-37.743328,\t-37.76323841,\t-37.78231651,\t-37.8005609939,\t-37.81797059,\t-37.83454404,\t-37.85028012,\t-37.86517763,\t-37.87923541]\n",
    "E_3 = [-37.70101561, -37.72258661,\t-37.743328,\t-37.76323841,\t-37.78231651,\t-37.8005609939,\t-37.81797059,\t-37.83454404,\t-37.85028012,\t-37.86517763,\t-37.87923541]\n",
    "E_2 = [-35.75394727,\t-36.17235495,\t-36.58625048,\t-36.99560263,\t-37.40038203,\t-37.8005609939,\t-38.19611344,\t-38.58701473,\t-38.97324157,\t-39.35477193,\t-39.73158491]\n",
    "E_1 = [-35.75394727,\t-36.17235495,\t-36.58625048,\t-36.99560263,\t-37.40038203,\t-37.8005609939,\t-38.19611344,\t-38.58701473,\t-38.97324157,\t-39.35477193,\t-39.73158491]\n",
    "dE_6 = [-0.0369377530,\t-0.0279549669,\t-0.0197682064,\t-0.0123790962,\t-0.0057891951,\t0.0000000000,\t0.0049870498,\t0.0091705689,\t0.0125492225,\t0.0151217230,\t0.0168868274]\n",
    "dE_5 = [-0.0369377530,\t-0.0279549669,\t-0.0197682064,\t-0.0123790962,\t-0.0057891951,\t0.0000000000,\t0.0049870498,\t0.0091705689,\t0.0125492225,\t0.0151217230,\t0.0168868274]\n",
    "dE_4 = [-0.0995453813,\t-0.0779743795,\t-0.0572329939,\t-0.0373225849,\t-0.0182444852,\t0.0000000000,\t0.0174095924,\t0.0339830412,\t0.0497191218,\t0.0646166363,\t0.0786744125]\n",
    "dE_3 = [-0.0995453813,\t-0.0779743795,\t-0.0572329939,\t-0.0373225849,\t-0.0182444852,\t0.0000000000,\t0.0174095924,\t0.0339830412,\t0.0497191218,\t0.0646166363,\t0.0786744125]\n",
    "dE_2 = [-2.0466137250,\t-1.6282060418,\t-1.2143105096,\t-0.8049583592,\t-0.4001789666,\t0.0000000000,\t0.3955524472,\t0.7864537376,\t1.1726805804,\t1.5542109337,\t1.9310239137]\n",
    "dE_1 = [-2.0466137250,\t-1.6282060418,\t-1.2143105096,\t-0.8049583592,\t-0.4001789666,\t0.0000000000,\t0.3955524472,\t0.7864537376,\t1.1726805804,\t1.5542109337,\t1.9310239137]\n",
    "\n",
    "\n",
    "plt.figure(figsize=(6, 4))\n",
    "plt.plot(P, dE_6, marker='o', linewidth = '3', label='n=6', color = 'blue')\n",
    "plt.plot(P, dE_5, marker='o',linestyle='--', linewidth = '2',  label='n=5', color = 'yellow')\n",
    "plt.plot(P, dE_4, marker='o',linewidth = '3',  label='n=4', color = 'green')\n",
    "plt.plot(P, dE_3, marker='o',linestyle='--',linewidth = '2',  label='n=3', color = 'red')\n",
    "plt.plot(P, dE_2, marker='o',linewidth = '3',  label='n=2', color = 'purple')\n",
    "plt.plot(P, dE_1, marker='o',linestyle='--',linewidth = '2',  label='n=1', color = 'orange')\n",
    "plt.axhline(0, color='gray', linestyle='--', linewidth=0.8)\n",
    "plt.xlabel('Perturbation')\n",
    "plt.ylabel('Energy Shift, a.u.')\n",
    "plt.title('Energy Shifts vs Perturbation')\n",
    "plt.legend()\n",
    "plt.grid(True)\n",
    "plt.tight_layout()\n",
    "plt.text(\n",
    "    -0.1, 1.1, \"Fig. 1A\", \n",
    "    transform=plt.gca().transAxes,   # place relative to axes\n",
    "    fontsize=12, fontweight=\"bold\", va=\"top\", ha=\"left\"\n",
    ")\n",
    "#plt.savefig(\"energy_shifts.png\", dpi=300, bbox_inches=\"tight\")  \n",
    "plt.show()\n",
    "\n",
    "plt.figure(figsize=(6, 4))\n",
    "plt.plot(P, dE_6, marker='o', linewidth = '3', label='n=6', color = 'blue')\n",
    "plt.plot(P, dE_5, marker='o',linestyle='--', linewidth = '2',  label='n=5', color = 'yellow')\n",
    "plt.plot(P, dE_4, marker='o',linewidth = '3',  label='n=4', color = 'green')\n",
    "plt.plot(P, dE_3, marker='o',linestyle='--',linewidth = '2',  label='n=3', color = 'red')\n",
    "#plt.plot(P, dE_2, marker='o',linewidth = '3',  label='n=2', color = 'purple')\n",
    "#plt.plot(P, dE_1, marker='o',linestyle='--',linewidth = '2',  label='n=1', color = 'orange')\n",
    "plt.axhline(0, color='gray', linestyle='--', linewidth=0.8)\n",
    "plt.xlabel('Perturbation')\n",
    "plt.ylabel('Energy Shift, a.u.')\n",
    "plt.title('Zoomed in Energy Shifts vs Perturbation')\n",
    "plt.legend()\n",
    "plt.grid(True)\n",
    "plt.tight_layout()\n",
    "plt.text(\n",
    "    -0.1, 1.1, \"Fig. 1B\", \n",
    "    transform=plt.gca().transAxes,   # place relative to axes\n",
    "    fontsize=12, fontweight=\"bold\", va=\"top\", ha=\"left\")\n",
    "plt.savefig(\"energy_shifts_zoomed_in.png\", dpi=300, bbox_inches=\"tight\")  \n",
    "plt.show()"
   ]
  }
 ],
 "metadata": {
  "language_info": {
   "name": "python"
  }
 },
 "nbformat": 4,
 "nbformat_minor": 5
}
